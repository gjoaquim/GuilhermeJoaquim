{
 "cells": [
  {
   "cell_type": "markdown",
   "id": "24e71241-a806-41a0-bcfa-7c07caccbee4",
   "metadata": {
    "nteract": {
     "transient": {
      "deleting": false
     }
    }
   },
   "source": [
    "# Performance test with native execution engine using the NYC taxi - yellow dataset from https://learn.microsoft.com/en-us/azure/open-datasets/dataset-taxi-yellow?tabs=pyspark\n",
    "In this example, I am using a Fabric environment with the native execution engine enabled."
   ]
  },
  {
   "cell_type": "code",
   "execution_count": 1,
   "id": "d1220d70-0348-4635-af75-afaf98d236fd",
   "metadata": {
    "microsoft": {
     "language": "python",
     "language_group": "synapse_pyspark"
    }
   },
   "outputs": [
    {
     "data": {
      "application/vnd.livy.statement-meta+json": {
       "execution_finish_time": "2025-03-03T04:49:04.2814534Z",
       "execution_start_time": "2025-03-03T04:49:02.0098776Z",
       "livy_statement_state": "available",
       "normalized_state": "finished",
       "parent_msg_id": "0795df90-1640-4b1d-84d4-ecb226e6057d",
       "queued_time": "2025-03-03T04:48:47.0550244Z",
       "session_id": "0ecf7285-ca05-4d00-963e-99da582a512e",
       "session_start_time": "2025-03-03T04:48:47.0564495Z",
       "spark_pool": null,
       "state": "finished",
       "statement_id": 3,
       "statement_ids": [
        3
       ]
      },
      "text/plain": [
       "StatementMeta(, 0ecf7285-ca05-4d00-963e-99da582a512e, 3, Finished, Available, Finished)"
      ]
     },
     "metadata": {},
     "output_type": "display_data"
    }
   ],
   "source": [
    "from pyspark.sql import SparkSession\n",
    "from pyspark.sql.functions import col, sum"
   ]
  },
  {
   "cell_type": "code",
   "execution_count": 2,
   "id": "e40e3879-425c-4fe9-a4b1-a21ad687a492",
   "metadata": {
    "microsoft": {
     "language": "python",
     "language_group": "synapse_pyspark"
    }
   },
   "outputs": [
    {
     "data": {
      "application/vnd.livy.statement-meta+json": {
       "execution_finish_time": "2025-03-03T04:52:04.5114927Z",
       "execution_start_time": "2025-03-03T04:52:04.2666328Z",
       "livy_statement_state": "available",
       "normalized_state": "finished",
       "parent_msg_id": "51816269-7bae-43bd-97d6-19115553c51f",
       "queued_time": "2025-03-03T04:52:04.0455905Z",
       "session_id": "0ecf7285-ca05-4d00-963e-99da582a512e",
       "session_start_time": null,
       "spark_pool": null,
       "state": "finished",
       "statement_id": 4,
       "statement_ids": [
        4
       ]
      },
      "text/plain": [
       "StatementMeta(, 0ecf7285-ca05-4d00-963e-99da582a512e, 4, Finished, Available, Finished)"
      ]
     },
     "metadata": {},
     "output_type": "display_data"
    }
   ],
   "source": [
    "# Create Spark session\n",
    "spark = SparkSession.builder \\\n",
    "    .appName(\"NativeExecutionEngine\") \\\n",
    "    .getOrCreate()"
   ]
  },
  {
   "cell_type": "code",
   "execution_count": 3,
   "id": "1daae8a6-bd50-4707-9340-96756cae00c2",
   "metadata": {
    "microsoft": {
     "language": "python",
     "language_group": "synapse_pyspark"
    }
   },
   "outputs": [
    {
     "data": {
      "application/vnd.livy.statement-meta+json": {
       "execution_finish_time": "2025-03-03T04:52:23.0309563Z",
       "execution_start_time": "2025-03-03T04:52:08.531079Z",
       "livy_statement_state": "available",
       "normalized_state": "finished",
       "parent_msg_id": "fbd69e83-4291-4a48-8ef8-f55f3ebac050",
       "queued_time": "2025-03-03T04:52:08.37037Z",
       "session_id": "0ecf7285-ca05-4d00-963e-99da582a512e",
       "session_start_time": null,
       "spark_pool": null,
       "state": "finished",
       "statement_id": 5,
       "statement_ids": [
        5
       ]
      },
      "text/plain": [
       "StatementMeta(, 0ecf7285-ca05-4d00-963e-99da582a512e, 5, Finished, Available, Finished)"
      ]
     },
     "metadata": {},
     "output_type": "display_data"
    },
    {
     "name": "stdout",
     "output_type": "stream",
     "text": [
      "Remote blob path: wasbs://nyctlc@azureopendatastorage.blob.core.windows.net/yellow\n",
      "Register the DataFrame as a SQL temporary view: source\n"
     ]
    }
   ],
   "source": [
    "# Get the NYC Taxi yellow data from Microsoft: https://learn.microsoft.com/en-us/azure/open-datasets/dataset-taxi-yellow?tabs=pyspark\n",
    "\n",
    "# Azure storage access info\n",
    "blob_account_name = \"azureopendatastorage\"\n",
    "blob_container_name = \"nyctlc\"\n",
    "blob_relative_path = \"yellow\"\n",
    "blob_sas_token = r\"\"\n",
    "\n",
    "# Allow SPARK to read from Blob remotely\n",
    "wasbs_path = 'wasbs://%s@%s.blob.core.windows.net/%s' % (blob_container_name, blob_account_name, blob_relative_path)\n",
    "spark.conf.set(\n",
    "  'fs.azure.sas.%s.%s.blob.core.windows.net' % (blob_container_name, blob_account_name),\n",
    "  blob_sas_token)\n",
    "print('Remote blob path: ' + wasbs_path)\n",
    "\n",
    "# SPARK read parquet, note that it won't load any data yet by now\n",
    "df_yellow = spark.read.parquet(wasbs_path)\n",
    "print('Register the DataFrame as a SQL temporary view: source')\n",
    "df_yellow.createOrReplaceTempView('yellow')"
   ]
  },
  {
   "cell_type": "code",
   "execution_count": 4,
   "id": "ab03742b-a952-4415-8ac2-64d70221a795",
   "metadata": {
    "microsoft": {
     "language": "python",
     "language_group": "synapse_pyspark"
    }
   },
   "outputs": [
    {
     "data": {
      "application/vnd.livy.statement-meta+json": {
       "execution_finish_time": "2025-03-03T04:52:52.0940563Z",
       "execution_start_time": "2025-03-03T04:52:31.0401873Z",
       "livy_statement_state": "available",
       "normalized_state": "finished",
       "parent_msg_id": "2c5d5296-67e3-4da0-8017-c1ef6828358b",
       "queued_time": "2025-03-03T04:52:30.7431514Z",
       "session_id": "0ecf7285-ca05-4d00-963e-99da582a512e",
       "session_start_time": null,
       "spark_pool": null,
       "state": "finished",
       "statement_id": 6,
       "statement_ids": [
        6
       ]
      },
      "text/plain": [
       "StatementMeta(, 0ecf7285-ca05-4d00-963e-99da582a512e, 6, Finished, Available, Finished)"
      ]
     },
     "metadata": {},
     "output_type": "display_data"
    },
    {
     "data": {
      "text/plain": [
       "1571671152"
      ]
     },
     "execution_count": 17,
     "metadata": {},
     "output_type": "execute_result"
    }
   ],
   "source": [
    "# Count the number of rows\n",
    "df_yellow.count()"
   ]
  },
  {
   "cell_type": "code",
   "execution_count": 7,
   "id": "651b923f-06ac-4d1a-90fb-9232cc02395a",
   "metadata": {
    "advisor": {
     "adviceMetadata": "{\"artifactId\":\"a3d989de-f9bc-4aee-b744-49f0591a0ac6\",\"activityId\":\"0ecf7285-ca05-4d00-963e-99da582a512e\",\"applicationId\":\"application_1740976791703_0001\",\"jobGroupId\":\"9\",\"advices\":{\"warn\":1}}"
    },
    "microsoft": {
     "language": "python",
     "language_group": "synapse_pyspark"
    }
   },
   "outputs": [
    {
     "data": {
      "application/vnd.livy.statement-meta+json": {
       "execution_finish_time": "2025-03-03T04:56:25.1524235Z",
       "execution_start_time": "2025-03-03T04:54:23.170977Z",
       "livy_statement_state": "available",
       "normalized_state": "finished",
       "parent_msg_id": "f56b4044-dbb3-4ce2-934c-9d86be696a36",
       "queued_time": "2025-03-03T04:54:22.9953768Z",
       "session_id": "0ecf7285-ca05-4d00-963e-99da582a512e",
       "session_start_time": null,
       "spark_pool": null,
       "state": "finished",
       "statement_id": 9,
       "statement_ids": [
        9
       ]
      },
      "text/plain": [
       "StatementMeta(, 0ecf7285-ca05-4d00-963e-99da582a512e, 9, Finished, Available, Finished)"
      ]
     },
     "metadata": {},
     "output_type": "display_data"
    },
    {
     "name": "stdout",
     "output_type": "stream",
     "text": [
      "== Physical Plan ==\n",
      "AdaptiveSparkPlan isFinalPlan=true\n",
      "+- == Final Plan ==\n",
      "   VeloxColumnarToRowExec\n",
      "   +- ^(6) HashAggregateTransformer(keys=[], functions=[sum(totalAmount#714)], isStreamingAgg=false)\n",
      "      +- ^(6) InputIteratorTransformer[sum#1052]\n",
      "         +- ShuffleQueryStage 0\n",
      "            +- ColumnarExchange SinglePartition, ENSURE_REQUIREMENTS, [plan_id=460], [id=#460], [OUTPUT] List(sum:DoubleType)\n",
      "               +- ^(5) FlushableHashAggregateTransformer(keys=[], functions=[partial_sum(totalAmount#714)], isStreamingAgg=false)\n",
      "                  +- ^(5) ProjectExecTransformer [totalAmount#714]\n",
      "                     +- ^(5) NativeFileScan parquet [totalAmount#714,puYear#715,puMonth#716] Batched: true, DataFilters: [], Format: Parquet, Location: InMemoryFileIndex(1 paths)[wasbs://nyctlc@azureopendatastorage.blob.core.windows.net/yellow], PartitionFilters: [], PushedFilters: [], ReadSchema: struct<totalAmount:double>\n",
      "+- == Initial Plan ==\n",
      "   HashAggregate(keys=[], functions=[sum(totalAmount#714)])\n",
      "   +- Exchange SinglePartition, ENSURE_REQUIREMENTS, [plan_id=415]\n",
      "      +- HashAggregate(keys=[], functions=[partial_sum(totalAmount#714)])\n",
      "         +- Project [totalAmount#714]\n",
      "            +- FileScan parquet [totalAmount#714,puYear#715,puMonth#716] Batched: true, DataFilters: [], Format: Parquet, Location: InMemoryFileIndex(1 paths)[wasbs://nyctlc@azureopendatastorage.blob.core.windows.net/yellow], PartitionFilters: [], PushedFilters: [], ReadSchema: struct<totalAmount:double>\n",
      "\n",
      "\n"
     ]
    }
   ],
   "source": [
    "# Executes a SQL query using Spark SQL to sum up all values in the 'totalAmount' column from the 'yellow' table\n",
    "yellow_sum = spark.sql('SELECT SUM(totalAmount) FROM yellow')\n",
    "\n",
    "# Triggers the execution of the query and retrieves the result as a list of Row objects\n",
    "yellow_sum.collect()\n",
    "\n",
    "# Displays the execution plan of the query\n",
    "yellow_sum.explain()"
   ]
  }
 ],
 "metadata": {
  "dependencies": {
   "environment": {
    "environmentId": "55c4ca56-c56f-4f9b-8469-eb4295665658",
    "workspaceId": "56b6f25d-7a9b-49e7-b6a1-8320799aad27"
   },
   "lakehouse": {
    "default_lakehouse": "7e187389-b8df-4d77-85a4-df940c893c64",
    "default_lakehouse_name": "test_delete",
    "default_lakehouse_workspace_id": "abb1997b-1527-4870-bc4b-d9b6af583a15"
   }
  },
  "kernel_info": {
   "name": "synapse_pyspark"
  },
  "kernelspec": {
   "display_name": "Synapse PySpark",
   "language": "Python",
   "name": "synapse_pyspark"
  },
  "language_info": {
   "name": "python"
  },
  "microsoft": {
   "language": "python",
   "language_group": "synapse_pyspark",
   "ms_spell_check": {
    "ms_spell_check_language": "en"
   }
  },
  "nteract": {
   "version": "nteract-front-end@1.0.0"
  },
  "spark_compute": {
   "compute_id": "/trident/default",
   "session_options": {
    "conf": {
     "spark.synapse.nbs.session.timeout": "1200000"
    }
   }
  },
  "synapse_widget": {
   "state": {
    "2642e2a8-5e1a-4090-8563-bcf213add597": {
     "persist_state": {
      "view": {
       "chartOptions": {
        "aggregationType": "sum",
        "binsNumber": 10,
        "categoryFieldKeys": [],
        "chartType": "bar",
        "evaluatesOverAllRecords": false,
        "isStacked": false,
        "seriesFieldKeys": [
         "0"
        ],
        "wordFrequency": "-1"
       },
       "tableOptions": {},
       "type": "details",
       "viewOptionsGroup": [
        {
         "tabItems": [
          {
           "key": "0",
           "name": "Table",
           "options": {},
           "type": "table"
          }
         ]
        }
       ]
      }
     },
     "sync_state": {
      "isSummary": false,
      "language": "scala",
      "table": {
       "rows": [
        {
         "0": "2.2240404978629936E10",
         "index": 0,
         "key": 0
        }
       ],
       "schema": [
        {
         "key": "0",
         "name": "sum(totalAmount)",
         "type": "double"
        }
       ],
       "truncated": false
      },
      "wranglerEntryContext": {
       "dataframeType": "pyspark"
      }
     },
     "type": "Synapse.DataFrame"
    },
    "43da0a89-8451-4533-a649-7e8f57fa9643": {
     "persist_state": {
      "view": {
       "chartOptions": {
        "aggregationType": "sum",
        "binsNumber": 10,
        "categoryFieldKeys": [
         "0"
        ],
        "chartType": "bar",
        "evaluatesOverAllRecords": false,
        "isStacked": false,
        "seriesFieldKeys": [
         "3"
        ],
        "wordFrequency": "-1"
       },
       "tableOptions": {},
       "type": "details",
       "viewOptionsGroup": [
        {
         "tabItems": [
          {
           "key": "0",
           "name": "Table",
           "options": {},
           "type": "table"
          }
         ]
        }
       ]
      }
     },
     "sync_state": {
      "isSummary": false,
      "language": "scala",
      "table": {
       "rows": [
        {
         "0": "CMT",
         "1": "2012-02-29 23:53:14",
         "2": "2012-03-01 00:00:43",
         "3": "1",
         "4": "2.1",
         "7": "-73.980494",
         "8": "40.730601",
         "9": "-73.983532",
         "10": "40.752311",
         "11": "1",
         "12": "N",
         "13": "CSH",
         "14": "7.3",
         "15": "0.5",
         "16": "0.5",
         "18": "0.0",
         "19": "0.0",
         "20": "8.3",
         "21": "2012",
         "22": "3"
        },
        {
         "0": "VTS",
         "1": "2012-03-17 08:01:00",
         "2": "2012-03-17 08:15:00",
         "3": "1",
         "4": "11.06",
         "7": "-73.986067",
         "8": "40.699862",
         "9": "-73.814838",
         "10": "40.737052",
         "11": "1",
         "13": "CRD",
         "14": "24.5",
         "15": "0.0",
         "16": "0.5",
         "18": "4.9",
         "19": "0.0",
         "20": "29.9",
         "21": "2012",
         "22": "3"
        },
        {
         "0": "CMT",
         "1": "2012-02-29 23:58:51",
         "2": "2012-03-01 00:15:48",
         "3": "1",
         "4": "3.4",
         "7": "-73.968967",
         "8": "40.754359",
         "9": "-73.957048",
         "10": "40.743289",
         "11": "1",
         "12": "N",
         "13": "CRD",
         "14": "12.5",
         "15": "0.5",
         "16": "0.5",
         "18": "1.5",
         "19": "0.0",
         "20": "15.0",
         "21": "2012",
         "22": "3"
        },
        {
         "0": "CMT",
         "1": "2012-03-01 19:24:16",
         "2": "2012-03-01 19:31:22",
         "3": "1",
         "4": "1.3",
         "7": "-73.99374",
         "8": "40.75307",
         "9": "-74.005428",
         "10": "40.741118",
         "11": "1",
         "12": "N",
         "13": "CRD",
         "14": "6.1",
         "15": "1.0",
         "16": "0.5",
         "18": "0.0",
         "19": "0.0",
         "20": "7.6",
         "21": "2012",
         "22": "3"
        },
        {
         "0": "CMT",
         "1": "2012-02-29 23:46:32",
         "2": "2012-03-01 00:05:18",
         "3": "3",
         "4": "2.0",
         "7": "-73.973723",
         "8": "40.752323",
         "9": "-73.948275",
         "10": "40.769413",
         "11": "1",
         "12": "N",
         "13": "CSH",
         "14": "11.7",
         "15": "0.5",
         "16": "0.5",
         "18": "0.0",
         "19": "0.0",
         "20": "12.7",
         "21": "2012",
         "22": "3"
        },
        {
         "0": "VTS",
         "1": "2012-03-07 15:17:00",
         "2": "2012-03-07 15:26:00",
         "3": "5",
         "4": "1.87",
         "7": "-73.988237",
         "8": "40.75929",
         "9": "-73.97114",
         "10": "40.78275",
         "11": "1",
         "13": "CSH",
         "14": "7.7",
         "15": "0.0",
         "16": "0.5",
         "18": "0.0",
         "19": "0.0",
         "20": "8.2",
         "21": "2012",
         "22": "3"
        },
        {
         "0": "CMT",
         "1": "2012-02-29 23:41:58",
         "2": "2012-03-01 00:02:29",
         "3": "1",
         "4": "12.4",
         "7": "-73.954536",
         "8": "40.727742",
         "9": "-73.768994",
         "10": "40.760246",
         "11": "1",
         "12": "N",
         "13": "CSH",
         "14": "28.5",
         "15": "0.5",
         "16": "0.5",
         "18": "0.0",
         "19": "0.0",
         "20": "29.5",
         "21": "2012",
         "22": "3"
        },
        {
         "0": "VTS",
         "1": "2012-03-18 15:21:00",
         "2": "2012-03-18 15:32:00",
         "3": "6",
         "4": "2.51",
         "7": "-74.001705",
         "8": "40.732345",
         "9": "-73.974888",
         "10": "40.750835",
         "11": "1",
         "13": "CSH",
         "14": "8.9",
         "15": "0.0",
         "16": "0.5",
         "18": "0.0",
         "19": "0.0",
         "20": "9.4",
         "21": "2012",
         "22": "3"
        },
        {
         "0": "CMT",
         "1": "2012-02-29 23:47:08",
         "2": "2012-03-01 00:06:42",
         "3": "4",
         "4": "6.3",
         "7": "-73.992319",
         "8": "40.724503",
         "9": "-73.923589",
         "10": "40.76113",
         "11": "1",
         "12": "N",
         "13": "CRD",
         "14": "16.5",
         "15": "0.5",
         "16": "0.5",
         "18": "4.37",
         "19": "0.0",
         "20": "21.87",
         "21": "2012",
         "22": "3"
        },
        {
         "0": "VTS",
         "1": "2012-03-13 22:26:00",
         "2": "2012-03-13 22:37:00",
         "3": "1",
         "4": "1.34",
         "7": "-74.009907",
         "8": "40.706292",
         "9": "-74.000512",
         "10": "40.71733",
         "11": "1",
         "13": "CSH",
         "14": "7.3",
         "15": "0.5",
         "16": "0.5",
         "18": "0.0",
         "19": "0.0",
         "20": "8.3",
         "21": "2012",
         "22": "3"
        }
       ],
       "schema": [
        {
         "key": "0",
         "name": "vendorID",
         "type": "string"
        },
        {
         "key": "1",
         "name": "tpepPickupDateTime",
         "type": "timestamp"
        },
        {
         "key": "2",
         "name": "tpepDropoffDateTime",
         "type": "timestamp"
        },
        {
         "key": "3",
         "name": "passengerCount",
         "type": "int"
        },
        {
         "key": "4",
         "name": "tripDistance",
         "type": "double"
        },
        {
         "key": "5",
         "name": "puLocationId",
         "type": "string"
        },
        {
         "key": "6",
         "name": "doLocationId",
         "type": "string"
        },
        {
         "key": "7",
         "name": "startLon",
         "type": "double"
        },
        {
         "key": "8",
         "name": "startLat",
         "type": "double"
        },
        {
         "key": "9",
         "name": "endLon",
         "type": "double"
        },
        {
         "key": "10",
         "name": "endLat",
         "type": "double"
        },
        {
         "key": "11",
         "name": "rateCodeId",
         "type": "int"
        },
        {
         "key": "12",
         "name": "storeAndFwdFlag",
         "type": "string"
        },
        {
         "key": "13",
         "name": "paymentType",
         "type": "string"
        },
        {
         "key": "14",
         "name": "fareAmount",
         "type": "double"
        },
        {
         "key": "15",
         "name": "extra",
         "type": "double"
        },
        {
         "key": "16",
         "name": "mtaTax",
         "type": "double"
        },
        {
         "key": "17",
         "name": "improvementSurcharge",
         "type": "string"
        },
        {
         "key": "18",
         "name": "tipAmount",
         "type": "double"
        },
        {
         "key": "19",
         "name": "tollsAmount",
         "type": "double"
        },
        {
         "key": "20",
         "name": "totalAmount",
         "type": "double"
        },
        {
         "key": "21",
         "name": "puYear",
         "type": "int"
        },
        {
         "key": "22",
         "name": "puMonth",
         "type": "int"
        }
       ],
       "truncated": false
      },
      "wranglerEntryContext": {
       "dataframeType": "pyspark"
      }
     },
     "type": "Synapse.DataFrame"
    },
    "583cf7eb-53a6-43b5-b1c1-8647a61016bb": {
     "persist_state": {
      "view": {
       "chartOptions": {
        "aggregationType": "sum",
        "binsNumber": 10,
        "categoryFieldKeys": [],
        "chartType": "bar",
        "evaluatesOverAllRecords": false,
        "isStacked": false,
        "seriesFieldKeys": [
         "0"
        ],
        "wordFrequency": "-1"
       },
       "tableOptions": {},
       "type": "details",
       "viewOptionsGroup": [
        {
         "tabItems": [
          {
           "key": "0",
           "name": "Table",
           "options": {},
           "type": "table"
          }
         ]
        }
       ]
      }
     },
     "sync_state": {
      "isSummary": false,
      "language": "scala",
      "table": {
       "rows": [
        {
         "0": "1",
         "1": "1.5403509055614857E10",
         "index": 0,
         "key": 0
        },
        {
         "0": "6",
         "1": "5.6216040953028858E8",
         "index": 1,
         "key": 1
        },
        {
         "0": "3",
         "1": "9.7449021907994199E8",
         "index": 2,
         "key": 2
        },
        {
         "0": "5",
         "1": "1.3745585986795337E9",
         "index": 3,
         "key": 3
        },
        {
         "0": "4",
         "1": "4.7450398117014849E8",
         "index": 4,
         "key": 4
        },
        {
         "0": "2",
         "1": "3.3755065393080335E9",
         "index": 5,
         "key": 5
        },
        {
         "0": "0",
         "1": "7.5413529860007018E7",
         "index": 6,
         "key": 6
        },
        {
         "0": "15",
         "1": "24.1",
         "index": 7,
         "key": 7
        },
        {
         "0": "10",
         "1": "754.7",
         "index": 8,
         "key": 8
        },
        {
         "0": "208",
         "1": "12639.19",
         "index": 9,
         "key": 9
        },
        {
         "0": "8",
         "1": "81436.48999999999",
         "index": 10,
         "key": 10
        },
        {
         "0": "9",
         "1": "79395.55",
         "index": 11,
         "key": 11
        },
        {
         "0": "7",
         "1": "86940.46999999999",
         "index": 12,
         "key": 12
        },
        {
         "0": "247",
         "1": "19.44",
         "index": 13,
         "key": 13
        },
        {
         "0": "177",
         "1": "17.0",
         "index": 14,
         "key": 14
        },
        {
         "0": "129",
         "1": "61.5",
         "index": 15,
         "key": 15
        },
        {
         "0": "232",
         "1": "9.0",
         "index": 16,
         "key": 16
        },
        {
         "0": "58",
         "1": "51.879999999999995",
         "index": 17,
         "key": 17
        },
        {
         "0": "91",
         "1": "24.4",
         "index": 18,
         "key": 18
        },
        {
         "0": "25",
         "1": "7.6",
         "index": 19,
         "key": 19
        },
        {
         "0": "51",
         "1": "12.3",
         "index": 20,
         "key": 20
        },
        {
         "0": "169",
         "1": "56.64",
         "index": 21,
         "key": 21
        },
        {
         "0": "37",
         "1": "14.2",
         "index": 22,
         "key": 22
        },
        {
         "0": "61",
         "1": "31.34",
         "index": 23,
         "key": 23
        },
        {
         "0": "70",
         "1": "10.7",
         "index": 24,
         "key": 24
        },
        {
         "0": "250",
         "1": "37.7",
         "index": 25,
         "key": 25
        },
        {
         "0": "84",
         "1": "43.84",
         "index": 26,
         "key": 26
        },
        {
         "0": "38",
         "1": "7.3",
         "index": 27,
         "key": 27
        },
        {
         "0": "65",
         "1": "70.1",
         "index": 28,
         "key": 28
        },
        {
         "0": "134",
         "1": "55.14",
         "index": 29,
         "key": 29
        },
        {
         "0": "255",
         "1": "179.90999999999997",
         "index": 30,
         "key": 30
        },
        {
         "0": "34",
         "1": "16.8",
         "index": 31,
         "key": 31
        },
        {
         "0": "33",
         "1": "17.2",
         "index": 32,
         "key": 32
        },
        {
         "0": "66",
         "1": "19.3",
         "index": 33,
         "key": 33
        },
        {
         "0": "193",
         "1": "7.5",
         "index": 34,
         "key": 34
        },
        {
         "0": "133",
         "1": "10.3",
         "index": 35,
         "key": 35
        },
        {
         "0": "69",
         "1": "5.8",
         "index": 36,
         "key": 36
        },
        {
         "0": "36",
         "1": "61.55",
         "index": 37,
         "key": 37
        },
        {
         "0": "223",
         "1": "9.5",
         "index": 38,
         "key": 38
        },
        {
         "0": "97",
         "1": "9.9",
         "index": 39,
         "key": 39
        },
        {
         "0": "19",
         "1": "5.0",
         "index": 40,
         "key": 40
        },
        {
         "0": "17",
         "1": "39.95",
         "index": 41,
         "key": 41
        },
        {
         "0": "225",
         "1": "16.0",
         "index": 42,
         "key": 42
        },
        {
         "0": "164",
         "1": "62.14",
         "index": 43,
         "key": 43
        },
        {
         "0": "13",
         "1": "31.5",
         "index": 44,
         "key": 44
        },
        {
         "0": "213",
         "1": "10.0",
         "index": 45,
         "key": 45
        },
        {
         "0": "160",
         "1": "15.34",
         "index": 46,
         "key": 46
        },
        {
         "0": "155",
         "1": "90.24",
         "index": 47,
         "key": 47
        },
        {
         "0": "47",
         "1": "9.0",
         "index": 48,
         "key": 48
        },
        {
         "0": "158",
         "1": "14.44",
         "index": 49,
         "key": 49
        },
        {
         "0": "254",
         "1": "6.5",
         "index": 50,
         "key": 50
        },
        {
         "0": "165",
         "1": "12.14",
         "index": 51,
         "key": 51
        },
        {
         "0": "113",
         "1": "13.3",
         "index": 52,
         "key": 52
        },
        {
         "0": "249",
         "1": "9.5",
         "index": 53,
         "key": 53
        },
        {
         "0": "53",
         "1": "7.3",
         "index": 54,
         "key": 54
        },
        {
         "0": "125",
         "1": "16.6",
         "index": 55,
         "key": 55
        },
        {
         "0": "141",
         "1": "18.94",
         "index": 56,
         "key": 56
        },
        {
         "0": "163",
         "1": "15.54",
         "index": 57,
         "key": 57
        },
        {
         "0": "137",
         "1": "59.64",
         "index": 58,
         "key": 58
        },
        {
         "0": "211",
         "1": "7.0",
         "index": 59,
         "key": 59
        },
        {
         "0": "49",
         "1": "84.4",
         "index": 60,
         "key": 60
        },
        {
         "0": "229",
         "1": "16.35",
         "index": 61,
         "key": 61
        },
        {
         "0": "192",
         "1": "18.299999999999997",
         "index": 62,
         "key": 62
        },
        {
         "0": "96",
         "1": "8.16",
         "index": 63,
         "key": 63
        }
       ],
       "schema": [
        {
         "key": "0",
         "name": "passengerCount",
         "type": "int"
        },
        {
         "key": "1",
         "name": "total_fare",
         "type": "double"
        }
       ],
       "truncated": false
      },
      "wranglerEntryContext": {
       "candidateVariableNames": [
        "df_yellow_group"
       ],
       "dataframeType": "pyspark"
      }
     },
     "type": "Synapse.DataFrame"
    }
   },
   "version": "0.1"
  }
 },
 "nbformat": 4,
 "nbformat_minor": 5
}
