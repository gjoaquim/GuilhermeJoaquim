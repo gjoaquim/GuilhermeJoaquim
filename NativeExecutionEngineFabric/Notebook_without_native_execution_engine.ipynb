{
 "cells": [
  {
   "cell_type": "markdown",
   "id": "083c0857-f9e7-41cc-89e8-a3ad11b71479",
   "metadata": {
    "nteract": {
     "transient": {
      "deleting": false
     }
    }
   },
   "source": [
    "# Performance test without native execution engine using the NYC taxi - yellow dataset from https://learn.microsoft.com/en-us/azure/open-datasets/dataset-taxi-yellow?tabs=pyspark\n",
    "In this example, I am using a Fabric environment with the native execution engine disabled."
   ]
  },
  {
   "cell_type": "code",
   "execution_count": 1,
   "id": "c31b1a74-1692-471f-922e-d5f78242ab12",
   "metadata": {
    "microsoft": {
     "language": "python",
     "language_group": "synapse_pyspark"
    }
   },
   "outputs": [
    {
     "data": {
      "application/vnd.livy.statement-meta+json": {
       "execution_finish_time": "2025-03-03T04:59:20.9915304Z",
       "execution_start_time": "2025-03-03T04:59:18.8048799Z",
       "livy_statement_state": "available",
       "normalized_state": "finished",
       "parent_msg_id": "76149fd7-983e-4aae-bf92-f1008d67a52f",
       "queued_time": "2025-03-03T04:59:10.5392487Z",
       "session_id": "57d190c8-f1fc-49dd-b0c8-6432484e6f1b",
       "session_start_time": "2025-03-03T04:59:10.5405706Z",
       "spark_pool": null,
       "state": "finished",
       "statement_id": 3,
       "statement_ids": [
        3
       ]
      },
      "text/plain": [
       "StatementMeta(, 57d190c8-f1fc-49dd-b0c8-6432484e6f1b, 3, Finished, Available, Finished)"
      ]
     },
     "metadata": {},
     "output_type": "display_data"
    }
   ],
   "source": [
    "from pyspark.sql import SparkSession\n",
    "from pyspark.sql.functions import col, sum"
   ]
  },
  {
   "cell_type": "code",
   "execution_count": 2,
   "id": "c9fe42cd-52d6-4144-ab11-1746f87e2f29",
   "metadata": {
    "microsoft": {
     "language": "python",
     "language_group": "synapse_pyspark"
    }
   },
   "outputs": [
    {
     "data": {
      "application/vnd.livy.statement-meta+json": {
       "execution_finish_time": "2025-03-03T04:59:21.3831109Z",
       "execution_start_time": "2025-03-03T04:59:21.1516837Z",
       "livy_statement_state": "available",
       "normalized_state": "finished",
       "parent_msg_id": "7a5c1d27-7699-4535-a51d-2a7943dc3a26",
       "queued_time": "2025-03-03T04:59:10.6330303Z",
       "session_id": "57d190c8-f1fc-49dd-b0c8-6432484e6f1b",
       "session_start_time": null,
       "spark_pool": null,
       "state": "finished",
       "statement_id": 4,
       "statement_ids": [
        4
       ]
      },
      "text/plain": [
       "StatementMeta(, 57d190c8-f1fc-49dd-b0c8-6432484e6f1b, 4, Finished, Available, Finished)"
      ]
     },
     "metadata": {},
     "output_type": "display_data"
    }
   ],
   "source": [
    "# Create Spark session\n",
    "spark = SparkSession.builder \\\n",
    "    .appName(\"NativeExecutionEngine\") \\\n",
    "    .getOrCreate()"
   ]
  },
  {
   "cell_type": "code",
   "execution_count": 3,
   "id": "21357795-bcb8-4093-9e8b-ec031522acbf",
   "metadata": {
    "microsoft": {
     "language": "python",
     "language_group": "synapse_pyspark"
    }
   },
   "outputs": [
    {
     "data": {
      "application/vnd.livy.statement-meta+json": {
       "execution_finish_time": "2025-03-03T05:00:00.5178248Z",
       "execution_start_time": "2025-03-03T04:59:45.9622845Z",
       "livy_statement_state": "available",
       "normalized_state": "finished",
       "parent_msg_id": "9a6b1e95-c368-45a2-a7aa-53d362179472",
       "queued_time": "2025-03-03T04:59:45.7785224Z",
       "session_id": "57d190c8-f1fc-49dd-b0c8-6432484e6f1b",
       "session_start_time": null,
       "spark_pool": null,
       "state": "finished",
       "statement_id": 5,
       "statement_ids": [
        5
       ]
      },
      "text/plain": [
       "StatementMeta(, 57d190c8-f1fc-49dd-b0c8-6432484e6f1b, 5, Finished, Available, Finished)"
      ]
     },
     "metadata": {},
     "output_type": "display_data"
    },
    {
     "name": "stdout",
     "output_type": "stream",
     "text": [
      "Remote blob path: wasbs://nyctlc@azureopendatastorage.blob.core.windows.net/yellow\n",
      "Register the DataFrame as a SQL temporary view: source\n"
     ]
    }
   ],
   "source": [
    "# Get the NYC Taxi yellow data from Microsoft: https://learn.microsoft.com/en-us/azure/open-datasets/dataset-taxi-yellow?tabs=pyspark\n",
    "\n",
    "# Azure storage access info\n",
    "blob_account_name = \"azureopendatastorage\"\n",
    "blob_container_name = \"nyctlc\"\n",
    "blob_relative_path = \"yellow\"\n",
    "blob_sas_token = r\"\"\n",
    "\n",
    "# Allow SPARK to read from Blob remotely\n",
    "wasbs_path = 'wasbs://%s@%s.blob.core.windows.net/%s' % (blob_container_name, blob_account_name, blob_relative_path)\n",
    "spark.conf.set(\n",
    "  'fs.azure.sas.%s.%s.blob.core.windows.net' % (blob_container_name, blob_account_name),\n",
    "  blob_sas_token)\n",
    "print('Remote blob path: ' + wasbs_path)\n",
    "\n",
    "# SPARK read parquet, note that it won't load any data yet by now\n",
    "df_yellow = spark.read.parquet(wasbs_path)\n",
    "print('Register the DataFrame as a SQL temporary view: source')\n",
    "df_yellow.createOrReplaceTempView('yellow')"
   ]
  },
  {
   "cell_type": "code",
   "execution_count": 5,
   "id": "12beae9e-d8ec-443d-9d9b-239e211684b3",
   "metadata": {
    "advisor": {
     "adviceMetadata": "{\"artifactId\":\"252d03b6-bfb5-4671-87a5-d8fdcb2dcbc1\",\"activityId\":\"57d190c8-f1fc-49dd-b0c8-6432484e6f1b\",\"applicationId\":\"application_1740977477398_0001\",\"jobGroupId\":\"7\",\"advices\":{\"warn\":1}}"
    },
    "microsoft": {
     "language": "python",
     "language_group": "synapse_pyspark"
    }
   },
   "outputs": [
    {
     "data": {
      "application/vnd.livy.statement-meta+json": {
       "execution_finish_time": "2025-03-03T05:03:41.493918Z",
       "execution_start_time": "2025-03-03T05:00:20.3502563Z",
       "livy_statement_state": "available",
       "normalized_state": "finished",
       "parent_msg_id": "b7c73202-3716-43c4-95e3-df0d1b48be70",
       "queued_time": "2025-03-03T05:00:20.1314683Z",
       "session_id": "57d190c8-f1fc-49dd-b0c8-6432484e6f1b",
       "session_start_time": null,
       "spark_pool": null,
       "state": "finished",
       "statement_id": 7,
       "statement_ids": [
        7
       ]
      },
      "text/plain": [
       "StatementMeta(, 57d190c8-f1fc-49dd-b0c8-6432484e6f1b, 7, Finished, Available, Finished)"
      ]
     },
     "metadata": {},
     "output_type": "display_data"
    },
    {
     "data": {
      "text/plain": [
       "1571671152"
      ]
     },
     "execution_count": 20,
     "metadata": {},
     "output_type": "execute_result"
    }
   ],
   "source": [
    "# Count the number of rows\n",
    "df_yellow.count()"
   ]
  },
  {
   "cell_type": "code",
   "execution_count": 7,
   "id": "6231c266-3425-48e3-b763-173ae03ad9c1",
   "metadata": {
    "advisor": {
     "adviceMetadata": "{\"artifactId\":\"252d03b6-bfb5-4671-87a5-d8fdcb2dcbc1\",\"activityId\":\"57d190c8-f1fc-49dd-b0c8-6432484e6f1b\",\"applicationId\":\"application_1740977477398_0001\",\"jobGroupId\":\"9\",\"advices\":{\"warn\":2}}"
    },
    "microsoft": {
     "language": "python",
     "language_group": "synapse_pyspark"
    }
   },
   "outputs": [
    {
     "data": {
      "application/vnd.livy.statement-meta+json": {
       "execution_finish_time": "2025-03-03T05:08:45.8124916Z",
       "execution_start_time": "2025-03-03T05:03:46.71312Z",
       "livy_statement_state": "available",
       "normalized_state": "finished",
       "parent_msg_id": "5bb769e3-f499-4c79-a378-51e4c4aa48f2",
       "queued_time": "2025-03-03T05:01:11.1790738Z",
       "session_id": "57d190c8-f1fc-49dd-b0c8-6432484e6f1b",
       "session_start_time": null,
       "spark_pool": null,
       "state": "finished",
       "statement_id": 9,
       "statement_ids": [
        9
       ]
      },
      "text/plain": [
       "StatementMeta(, 57d190c8-f1fc-49dd-b0c8-6432484e6f1b, 9, Finished, Available, Finished)"
      ]
     },
     "metadata": {},
     "output_type": "display_data"
    },
    {
     "name": "stdout",
     "output_type": "stream",
     "text": [
      "== Physical Plan ==\n",
      "AdaptiveSparkPlan isFinalPlan=true\n",
      "+- == Final Plan ==\n",
      "   *(2) HashAggregate(keys=[], functions=[sum(totalAmount#714)])\n",
      "   +- ShuffleQueryStage 0\n",
      "      +- Exchange SinglePartition, ENSURE_REQUIREMENTS, [plan_id=362]\n",
      "         +- *(1) HashAggregate(keys=[], functions=[partial_sum(totalAmount#714)])\n",
      "            +- *(1) Project [totalAmount#714]\n",
      "               +- *(1) ColumnarToRow\n",
      "                  +- FileScan parquet [totalAmount#714,puYear#715,puMonth#716] Batched: true, DataFilters: [], Format: Parquet, Location: InMemoryFileIndex(1 paths)[wasbs://nyctlc@azureopendatastorage.blob.core.windows.net/yellow], PartitionFilters: [], PushedFilters: [], ReadSchema: struct<totalAmount:double>\n",
      "+- == Initial Plan ==\n",
      "   HashAggregate(keys=[], functions=[sum(totalAmount#714)])\n",
      "   +- Exchange SinglePartition, ENSURE_REQUIREMENTS, [plan_id=335]\n",
      "      +- HashAggregate(keys=[], functions=[partial_sum(totalAmount#714)])\n",
      "         +- Project [totalAmount#714]\n",
      "            +- FileScan parquet [totalAmount#714,puYear#715,puMonth#716] Batched: true, DataFilters: [], Format: Parquet, Location: InMemoryFileIndex(1 paths)[wasbs://nyctlc@azureopendatastorage.blob.core.windows.net/yellow], PartitionFilters: [], PushedFilters: [], ReadSchema: struct<totalAmount:double>\n",
      "\n",
      "\n"
     ]
    }
   ],
   "source": [
    "# Executes a SQL query using Spark SQL to sum up all values in the 'totalAmount' column from the 'yellow' table\n",
    "yellow_sum = spark.sql('SELECT SUM(totalAmount) FROM yellow')\n",
    "\n",
    "# Triggers the execution of the query and retrieves the result as a list of Row objects\n",
    "yellow_sum.collect()\n",
    "\n",
    "# Displays the execution plan of the query\n",
    "yellow_sum.explain()"
   ]
  }
 ],
 "metadata": {
  "dependencies": {
   "environment": {}
  },
  "kernel_info": {
   "name": "synapse_pyspark"
  },
  "kernelspec": {
   "display_name": "Synapse PySpark",
   "language": "Python",
   "name": "synapse_pyspark"
  },
  "language_info": {
   "name": "python"
  },
  "microsoft": {
   "language": "python",
   "language_group": "synapse_pyspark",
   "ms_spell_check": {
    "ms_spell_check_language": "en"
   }
  },
  "nteract": {
   "version": "nteract-front-end@1.0.0"
  },
  "spark_compute": {
   "compute_id": "/trident/default",
   "session_options": {
    "conf": {
     "spark.synapse.nbs.session.timeout": "1200000"
    }
   }
  },
  "synapse_widget": {
   "state": {
    "3ef9f693-4ad0-48b6-b521-b14d2c48bf04": {
     "persist_state": {
      "view": {
       "chartOptions": {
        "aggregationType": "sum",
        "binsNumber": 10,
        "categoryFieldKeys": [
         "0"
        ],
        "chartType": "bar",
        "evaluatesOverAllRecords": false,
        "isStacked": false,
        "seriesFieldKeys": [
         "14"
        ],
        "wordFrequency": "-1"
       },
       "tableOptions": {},
       "type": "details",
       "viewOptionsGroup": [
        {
         "tabItems": [
          {
           "key": "0",
           "name": "Table",
           "options": {},
           "type": "table"
          }
         ]
        }
       ]
      }
     },
     "sync_state": {
      "isSummary": false,
      "language": "scala",
      "table": {
       "rows": [
        {
         "0": "1",
         "1": "1.540350905561487E10",
         "index": 0,
         "key": 0
        },
        {
         "0": "6",
         "1": "5.621604095302883E8",
         "index": 1,
         "key": 1
        },
        {
         "0": "3",
         "1": "9.744902190799431E8",
         "index": 2,
         "key": 2
        },
        {
         "0": "5",
         "1": "1.374558598679532E9",
         "index": 3,
         "key": 3
        },
        {
         "0": "9",
         "1": "79395.54999999999",
         "index": 4,
         "key": 4
        },
        {
         "0": "4",
         "1": "4.7450398117014784E8",
         "index": 5,
         "key": 5
        },
        {
         "0": "7",
         "1": "86940.47000000003",
         "index": 6,
         "key": 6
        },
        {
         "0": "2",
         "1": "3.375506539308032E9",
         "index": 7,
         "key": 7
        },
        {
         "0": "0",
         "1": "7.54135298600071E7",
         "index": 8,
         "key": 8
        },
        {
         "0": "208",
         "1": "12639.190000000002",
         "index": 9,
         "key": 9
        },
        {
         "0": "33",
         "1": "17.2",
         "index": 10,
         "key": 10
        },
        {
         "0": "255",
         "1": "179.90999999999997",
         "index": 11,
         "key": 11
        },
        {
         "0": "34",
         "1": "16.8",
         "index": 12,
         "key": 12
        },
        {
         "0": "193",
         "1": "7.5",
         "index": 13,
         "key": 13
        },
        {
         "0": "10",
         "1": "754.7",
         "index": 14,
         "key": 14
        },
        {
         "0": "8",
         "1": "81436.48999999999",
         "index": 15,
         "key": 15
        },
        {
         "0": "58",
         "1": "51.879999999999995",
         "index": 16,
         "key": 16
        },
        {
         "0": "97",
         "1": "9.9",
         "index": 17,
         "key": 17
        },
        {
         "0": "213",
         "1": "10.0",
         "index": 18,
         "key": 18
        },
        {
         "0": "133",
         "1": "10.3",
         "index": 19,
         "key": 19
        },
        {
         "0": "249",
         "1": "9.5",
         "index": 20,
         "key": 20
        },
        {
         "0": "37",
         "1": "14.2",
         "index": 21,
         "key": 21
        },
        {
         "0": "61",
         "1": "31.34",
         "index": 22,
         "key": 22
        },
        {
         "0": "137",
         "1": "59.64",
         "index": 23,
         "key": 23
        },
        {
         "0": "19",
         "1": "5.0",
         "index": 24,
         "key": 24
        },
        {
         "0": "66",
         "1": "19.3",
         "index": 25,
         "key": 25
        },
        {
         "0": "177",
         "1": "17.0",
         "index": 26,
         "key": 26
        },
        {
         "0": "49",
         "1": "84.4",
         "index": 27,
         "key": 27
        },
        {
         "0": "15",
         "1": "24.1",
         "index": 28,
         "key": 28
        },
        {
         "0": "158",
         "1": "14.44",
         "index": 29,
         "key": 29
        },
        {
         "0": "36",
         "1": "61.55",
         "index": 30,
         "key": 30
        },
        {
         "0": "225",
         "1": "16.0",
         "index": 31,
         "key": 31
        },
        {
         "0": "232",
         "1": "9.0",
         "index": 32,
         "key": 32
        },
        {
         "0": "129",
         "1": "61.5",
         "index": 33,
         "key": 33
        },
        {
         "0": "91",
         "1": "24.4",
         "index": 34,
         "key": 34
        },
        {
         "0": "25",
         "1": "7.6",
         "index": 35,
         "key": 35
        },
        {
         "0": "165",
         "1": "12.14",
         "index": 36,
         "key": 36
        },
        {
         "0": "53",
         "1": "7.3",
         "index": 37,
         "key": 37
        },
        {
         "0": "250",
         "1": "37.7",
         "index": 38,
         "key": 38
        },
        {
         "0": "51",
         "1": "12.3",
         "index": 39,
         "key": 39
        },
        {
         "0": "192",
         "1": "18.299999999999997",
         "index": 40,
         "key": 40
        },
        {
         "0": "84",
         "1": "43.84",
         "index": 41,
         "key": 41
        },
        {
         "0": "38",
         "1": "7.3",
         "index": 42,
         "key": 42
        },
        {
         "0": "65",
         "1": "70.1",
         "index": 43,
         "key": 43
        },
        {
         "0": "69",
         "1": "5.8",
         "index": 44,
         "key": 44
        },
        {
         "0": "13",
         "1": "31.5",
         "index": 45,
         "key": 45
        },
        {
         "0": "17",
         "1": "39.95",
         "index": 46,
         "key": 46
        },
        {
         "0": "155",
         "1": "90.24",
         "index": 47,
         "key": 47
        },
        {
         "0": "47",
         "1": "9.0",
         "index": 48,
         "key": 48
        },
        {
         "0": "160",
         "1": "15.34",
         "index": 49,
         "key": 49
        },
        {
         "0": "113",
         "1": "13.3",
         "index": 50,
         "key": 50
        },
        {
         "0": "134",
         "1": "55.14",
         "index": 51,
         "key": 51
        },
        {
         "0": "141",
         "1": "18.94",
         "index": 52,
         "key": 52
        },
        {
         "0": "247",
         "1": "19.44",
         "index": 53,
         "key": 53
        },
        {
         "0": "70",
         "1": "10.7",
         "index": 54,
         "key": 54
        },
        {
         "0": "223",
         "1": "9.5",
         "index": 55,
         "key": 55
        },
        {
         "0": "164",
         "1": "62.14",
         "index": 56,
         "key": 56
        },
        {
         "0": "254",
         "1": "6.5",
         "index": 57,
         "key": 57
        },
        {
         "0": "125",
         "1": "16.6",
         "index": 58,
         "key": 58
        },
        {
         "0": "163",
         "1": "15.54",
         "index": 59,
         "key": 59
        },
        {
         "0": "211",
         "1": "7.0",
         "index": 60,
         "key": 60
        },
        {
         "0": "229",
         "1": "16.35",
         "index": 61,
         "key": 61
        },
        {
         "0": "169",
         "1": "56.64",
         "index": 62,
         "key": 62
        },
        {
         "0": "96",
         "1": "8.16",
         "index": 63,
         "key": 63
        }
       ],
       "schema": [
        {
         "key": "0",
         "name": "passengerCount",
         "type": "int"
        },
        {
         "key": "1",
         "name": "total_fare",
         "type": "double"
        }
       ],
       "truncated": false
      },
      "wranglerEntryContext": {
       "candidateVariableNames": [
        "df_yellow_group"
       ],
       "dataframeType": "pyspark"
      }
     },
     "type": "Synapse.DataFrame"
    },
    "d3863adf-fd8a-486e-9b8c-edca671d1d10": {
     "persist_state": {
      "view": {
       "chartOptions": {
        "aggregationType": "sum",
        "binsNumber": 10,
        "categoryFieldKeys": [],
        "chartType": "bar",
        "evaluatesOverAllRecords": false,
        "isStacked": false,
        "seriesFieldKeys": [
         "0"
        ],
        "wordFrequency": "-1"
       },
       "tableOptions": {},
       "type": "details",
       "viewOptionsGroup": [
        {
         "tabItems": [
          {
           "key": "0",
           "name": "Table",
           "options": {},
           "type": "table"
          }
         ]
        }
       ]
      }
     },
     "sync_state": {
      "isSummary": false,
      "language": "scala",
      "table": {
       "rows": [
        {
         "0": "2.224040497862996E10",
         "index": 0,
         "key": 0
        }
       ],
       "schema": [
        {
         "key": "0",
         "name": "sum(totalAmount)",
         "type": "double"
        }
       ],
       "truncated": false
      },
      "wranglerEntryContext": {
       "dataframeType": "pyspark"
      }
     },
     "type": "Synapse.DataFrame"
    }
   },
   "version": "0.1"
  }
 },
 "nbformat": 4,
 "nbformat_minor": 5
}
